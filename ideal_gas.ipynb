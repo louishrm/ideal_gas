{
 "cells": [
  {
   "cell_type": "code",
   "execution_count": 4,
   "metadata": {},
   "outputs": [],
   "source": [
    "import numpy as np\n",
    "import matplotlib.pyplot as plt"
   ]
  },
  {
   "cell_type": "code",
   "execution_count": 11,
   "metadata": {},
   "outputs": [],
   "source": [
    "class IdealGas:\n",
    "\n",
    "    def __init__(self, nparticles, mass, radius, xlim, ylim, t):\n",
    "        \n",
    "        self.nparticles = nparticles #number of particles \n",
    "        self.mass = mass #mass of particles \n",
    "        self.radius = radius #radius of particles \n",
    "        self.xlim = xlim\n",
    "        self.ylim = ylim \n",
    "        self.A = (xlim[1]- xlim[0])*(ylim[1]-ylim[0])\n",
    "        self.t = t #array of times for the animation\n",
    "        self.dt = t[1]-t[0]\n",
    "\n",
    "        self.r = np.stack((np.random.uniform(*xlim, nparticles), \n",
    "                           np.random.uniform(*ylim, nparticles))).reshape((nparticles,2))\n",
    "        \n",
    "        \n",
    "    def dist_pairs(self):\n",
    "\n",
    "\n",
    "\n",
    "    def step(self): \n",
    "        \"\"\"1) check wall collisions and update the velocities for the particles in question\n",
    "        2) check particle collisions and update the velocities. \n",
    "        3) step the positions\"\"\"\n",
    "\n",
    "    \n",
    "        #step the positions\n",
    "        self.r += self.v*self.dt\n",
    "\n",
    "\n",
    "\n",
    "\n",
    "\n",
    "\n",
    "    \n",
    "        \n",
    "\n",
    "\n"
   ]
  },
  {
   "cell_type": "code",
   "execution_count": 12,
   "metadata": {},
   "outputs": [],
   "source": [
    "nparticles = 5\n",
    "mass = 1\n",
    "radius = 0.05\n",
    "xlim = [0,1]\n",
    "ylim = [0,1]\n",
    "t = np.linspace(0,10,100)\n",
    "gas = IdealGas( nparticles, mass, radius, xlim, ylim, t)"
   ]
  },
  {
   "cell_type": "code",
   "execution_count": 20,
   "metadata": {},
   "outputs": [
    {
     "data": {
      "text/plain": [
       "<matplotlib.collections.PathCollection at 0x10f830ee0>"
      ]
     },
     "execution_count": 20,
     "metadata": {},
     "output_type": "execute_result"
    },
    {
     "data": {
      "image/png": "[encoded data removed]",
      "text/plain": [
       "<Figure size 640x480 with 1 Axes>"
      ]
     },
     "metadata": {},
     "output_type": "display_data"
    }
   ],
   "source": [
    "plt.scatter(gas.r[:,0], gas.r[:,1])"
   ]
  },
  {
   "cell_type": "code",
   "execution_count": null,
   "metadata": {},
   "outputs": [],
   "source": []
  }
 ],
 "metadata": {
  "kernelspec": {
   "display_name": "env_tensorflow",
   "language": "python",
   "name": "python3"
  },
  "language_info": {
   "codemirror_mode": {
    "name": "ipython",
    "version": 3
   },
   "file_extension": ".py",
   "mimetype": "text/x-python",
   "name": "python",
   "nbconvert_exporter": "python",
   "pygments_lexer": "ipython3",
   "version": "3.10.6"
  },
  "orig_nbformat": 4
 },
 "nbformat": 4,
 "nbformat_minor": 2
}
