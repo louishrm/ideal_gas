{
 "cells": [
  {
   "cell_type": "code",
   "execution_count": 2,
   "metadata": {},
   "outputs": [],
   "source": [
    "import numpy as np\n",
    "import matplotlib.pyplot as plt"
   ]
  },
  {
   "cell_type": "code",
   "execution_count": 70,
   "metadata": {},
   "outputs": [],
   "source": [
    "class IdealGas:\n",
    "\n",
    "    def __init__(self, nparticles, mass, radius, xlim, ylim, t):\n",
    "        \n",
    "        self.nparticles = nparticles #number of particles \n",
    "        self.mass = mass #mass of particles \n",
    "        self.radius = radius #radius of particles \n",
    "        self.xlim = xlim\n",
    "        self.ylim = ylim \n",
    "        self.A = (xlim[1]- xlim[0])*(ylim[1]-ylim[0])\n",
    "        self.t = t #array of times for the animation\n",
    "        self.dt = t[1]-t[0]\n",
    "\n",
    "        self.r = np.stack((np.random.uniform(*xlim, nparticles), \n",
    "                           np.random.uniform(*ylim, nparticles))).reshape((nparticles,2))\n",
    "        \n",
    "\n",
    "        self.v = np.stack((np.random.uniform(-100,100, nparticles), \n",
    "                           np.random.uniform(-100,100, nparticles))).reshape((nparticles,2))\n",
    "        \n",
    "        \n",
    "    def dij(self):\n",
    "\n",
    "        dist_matrix = np.zeros((self.nparticles, self.nparticles))\n",
    "\n",
    "        for i in range(self.nparticles):\n",
    "            for j in range(i, self.nparticles):\n",
    "\n",
    "                dist_matrix[i,j] = np.linalg.norm(self.r[i]-self.r[j])\n",
    "\n",
    "        return dist_matrix\n",
    "\n",
    "    \n",
    "\n",
    "    def check_collisions(self):\n",
    "\n",
    "        \"\"\"Checks if there has been a collision between 2 particles. If so, \n",
    "        updates the velocities taking into account conservation of energy\n",
    "        and momentum.\"\"\"\n",
    "\n",
    "        dist_pairs = self.dij()\n",
    "        rows,cols = np.triu_indices(self.nparticles, k=1)\n",
    "        collisions = np.where(dist_pairs[rows,cols]<=2*self.radius)[0]\n",
    "        i,j = rows[collisions], cols[collisions]\n",
    "        vdiff = self.v[i] - self.v[j]\n",
    "        rdiff = self.r[i] - self.r[j]\n",
    "        self.v[i] = self.v[i] - np.sum(vdiff*rdiff)/np.sum(rdiff**2)*rdiff\n",
    "        self.v[j] = self.v[j] + np.sum(vdiff*rdiff)/np.sum(rdiff**2)*rdiff\n",
    "        \n",
    "        \n",
    "\n",
    "        return i,j\n",
    "        \n",
    "\n",
    "\n",
    "\n",
    "    def step(self): \n",
    "        \"\"\"1) check wall collisions and update the velocities for the particles in question\n",
    "        2) check particle collisions and update the velocities. \n",
    "        3) step the positions\"\"\"\n",
    "\n",
    "        #check for collisions between particles or walls,\n",
    "        #updates the velocity vectors\n",
    "        self.check_collisions()\n",
    "        \n",
    "        #step the positions\n",
    "        self.r += self.v*self.dt\n",
    "\n",
    "\n",
    "\n",
    "\n",
    "\n",
    "\n",
    "    \n",
    "        \n",
    "\n",
    "\n"
   ]
  },
  {
   "cell_type": "code",
   "execution_count": 88,
   "metadata": {},
   "outputs": [],
   "source": [
    "nparticles = 20\n",
    "mass = 1\n",
    "radius = 0.05\n",
    "xlim = [0,1]\n",
    "ylim = [0,1]\n",
    "t = np.linspace(0,10,200)\n",
    "gas = IdealGas( nparticles, mass, radius, xlim, ylim, t)"
   ]
  },
  {
   "cell_type": "code",
   "execution_count": 89,
   "metadata": {},
   "outputs": [
    {
     "data": {
      "image/png": "[encoded data removed]",
      "text/plain": [
       "<Figure size 640x480 with 1 Axes>"
      ]
     },
     "metadata": {},
     "output_type": "display_data"
    }
   ],
   "source": [
    "for (x,y) in zip(gas.r[:,0], gas.r[:,1]):\n",
    "    circle = plt.Circle((x,y), gas.radius, fill=True)\n",
    "    plt.gca().add_artist(circle)\n"
   ]
  },
  {
   "cell_type": "code",
   "execution_count": 90,
   "metadata": {},
   "outputs": [
    {
     "data": {
      "text/plain": [
       "array([ 41,  52,  58,  89, 105, 122, 146, 148, 163])"
      ]
     },
     "execution_count": 90,
     "metadata": {},
     "output_type": "execute_result"
    }
   ],
   "source": [
    "dij = gas.dij()\n",
    "rows,cols = np.triu_indices(gas.nparticles, k=1)\n",
    "np.where(dij[rows,cols]<=2*gas.radius)[0]"
   ]
  },
  {
   "cell_type": "code",
   "execution_count": 91,
   "metadata": {},
   "outputs": [],
   "source": [
    "i,j = rows[np.where(dij[rows,cols]<=2*gas.radius)[0]], cols[np.where(dij[rows,cols]<=2*gas.radius)[0]]"
   ]
  },
  {
   "cell_type": "code",
   "execution_count": 94,
   "metadata": {},
   "outputs": [],
   "source": [
    "vdiff = gas.v[i] - gas.v[j]\n",
    "rdiff = gas.r[i] - gas.r[j]\n",
    "gas.v[i] = gas.v[i] - np.sum(vdiff*rdiff)/np.sum(rdiff**2)*rdiff\n"
   ]
  },
  {
   "cell_type": "code",
   "execution_count": 53,
   "metadata": {},
   "outputs": [
    {
     "data": {
      "text/plain": [
       "0.1"
      ]
     },
     "execution_count": 53,
     "metadata": {},
     "output_type": "execute_result"
    }
   ],
   "source": [
    "2*gas.radius"
   ]
  },
  {
   "cell_type": "markdown",
   "metadata": {},
   "source": [
    "# 2D Elastic collision\n",
    "\n",
    "$$ \\bold v_i' = \\bold v_i - \\frac{(\\bold v_i - \\bold v_j) \\cdot (\\bold r_i - \\bold r_j)}{(\\bold r_i - \\bold r_j) \\cdot (\\bold r_i - \\bold r_j)} (\\bold r_i - \\bold r_j) $$\n",
    "$$ \\bold v_j' = \\bold v_j - \\frac{(\\bold v_j - \\bold v_i) \\cdot (\\bold r_j - \\bold r_i)}{(\\bold r_j - \\bold r_i) \\cdot (\\bold r_i - \\bold r_j)} (\\bold r_j - \\bold r_i) $$ \n"
   ]
  },
  {
   "cell_type": "markdown",
   "metadata": {},
   "source": []
  }
 ],
 "metadata": {
  "kernelspec": {
   "display_name": "env_tensorflow",
   "language": "python",
   "name": "python3"
  },
  "language_info": {
   "codemirror_mode": {
    "name": "ipython",
    "version": 3
   },
   "file_extension": ".py",
   "mimetype": "text/x-python",
   "name": "python",
   "nbconvert_exporter": "python",
   "pygments_lexer": "ipython3",
   "version": "3.10.6"
  },
  "orig_nbformat": 4
 },
 "nbformat": 4,
 "nbformat_minor": 2
}
