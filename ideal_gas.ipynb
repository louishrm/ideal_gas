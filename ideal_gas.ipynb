{
 "cells": [
  {
   "cell_type": "code",
   "execution_count": 1,
   "metadata": {},
   "outputs": [],
   "source": [
    "import numpy as np\n",
    "import matplotlib.pyplot as plt"
   ]
  },
  {
   "cell_type": "code",
   "execution_count": 2,
   "metadata": {},
   "outputs": [],
   "source": [
    "class IdealGas:\n",
    "\n",
    "    def __init__(self, nparticles, mass, radius, xlim, ylim, t):\n",
    "        \n",
    "        self.nparticles = nparticles #number of particles \n",
    "        self.mass = mass #mass of particles \n",
    "        self.radius = radius #radius of particles \n",
    "        self.xlim = xlim\n",
    "        self.ylim = ylim \n",
    "        self.A = (xlim[1]- xlim[0])*(ylim[1]-ylim[0])\n",
    "        self.t = t #array of times for the animation\n",
    "        self.dt = t[1]-t[0]\n",
    "\n",
    "        self.r = np.stack((np.random.uniform(*xlim, nparticles), \n",
    "                           np.random.uniform(*ylim, nparticles))).reshape((nparticles,2))\n",
    "        \n",
    "\n",
    "        self.v = np.stack((np.random.uniform(-100,100, nparticles), \n",
    "                           np.random.uniform(-100,100, nparticles))).reshape((nparticles,2))\n",
    "        \n",
    "        \n",
    "    def dij(self):\n",
    "\n",
    "        dist_matrix = np.zeros((self.nparticles, self.nparticles))\n",
    "\n",
    "        for i in range(self.nparticles):\n",
    "            for j in range(i, self.nparticles):\n",
    "\n",
    "                dist_matrix[i,j] = np.linalg.norm(self.r[i]-self.r[j])\n",
    "\n",
    "        return dist_matrix\n",
    "    \n",
    "\n",
    "    def check_collisions(self):\n",
    "\n",
    "        \"\"\"Checks if there has been a collision between 2 particles. If so, \n",
    "        updates the velocities taking into account conservation of energy\n",
    "        and momentum.\"\"\"\n",
    "\n",
    "        \n",
    "\n",
    "        dist_pairs = self.dij()\n",
    "        \n",
    "        rows, cols = np.triu_indices(dist_pairs.shape[0],k=1)\n",
    "        indices = np.column_stack((rows,cols))\n",
    "        i,j = indices[dist_pairs[rows,cols] <= 2*self.radius].T\n",
    "\n",
    "        return i,j\n",
    "        \n",
    "\n",
    "\n",
    "\n",
    "    def step(self): \n",
    "        \"\"\"1) check wall collisions and update the velocities for the particles in question\n",
    "        2) check particle collisions and update the velocities. \n",
    "        3) step the positions\"\"\"\n",
    "\n",
    "        #check for collisions between particles or walls,\n",
    "        #updates the velocity vectors\n",
    "        self.check_collisions()\n",
    "        \n",
    "        #step the positions\n",
    "        self.r += self.v*self.dt\n",
    "\n",
    "\n",
    "\n",
    "\n",
    "\n",
    "\n",
    "    \n",
    "        \n",
    "\n",
    "\n"
   ]
  },
  {
   "cell_type": "code",
   "execution_count": 3,
   "metadata": {},
   "outputs": [],
   "source": [
    "nparticles = 200\n",
    "mass = 1\n",
    "radius = 0.05 \n",
    "xlim = [0,1]\n",
    "ylim = [0,1]\n",
    "t = np.linspace(0,10,200)\n",
    "gas = IdealGas( nparticles, mass, radius, xlim, ylim, t)"
   ]
  },
  {
   "cell_type": "code",
   "execution_count": 4,
   "metadata": {},
   "outputs": [
    {
     "data": {
      "text/plain": [
       "(array([ 7., 10., 19., 15., 30., 36., 28., 33., 14.,  8.]),\n",
       " array([  4.59751672,  18.11418876,  31.63086081,  45.14753285,\n",
       "         58.6642049 ,  72.18087694,  85.69754899,  99.21422103,\n",
       "        112.73089308, 126.24756512, 139.76423717]),\n",
       " <BarContainer object of 10 artists>)"
      ]
     },
     "execution_count": 4,
     "metadata": {},
     "output_type": "execute_result"
    },
    {
     "data": {
      "image/png": "[encoded data removed]",
      "text/plain": [
       "<Figure size 640x480 with 2 Axes>"
      ]
     },
     "metadata": {},
     "output_type": "display_data"
    }
   ],
   "source": [
    "plt.subplot(1,2,1)\n",
    "plt.scatter(gas.r[:,0], gas.r[:,1])\n",
    "\n",
    "plt.subplot(1,2,2)\n",
    "plt.hist(np.linalg.norm(gas.v,axis=1))"
   ]
  },
  {
   "cell_type": "code",
   "execution_count": 8,
   "metadata": {},
   "outputs": [
    {
     "ename": "ValueError",
     "evalue": "shapes (565,2) and (565,2) not aligned: 2 (dim 1) != 565 (dim 0)",
     "output_type": "error",
     "traceback": [
      "\u001b[0;31m---------------------------------------------------------------------------\u001b[0m",
      "\u001b[0;31mValueError\u001b[0m                                Traceback (most recent call last)",
      "Cell \u001b[0;32mIn[8], line 5\u001b[0m\n\u001b[1;32m      2\u001b[0m vi,vj  \u001b[39m=\u001b[39m gas\u001b[39m.\u001b[39mv[i], gas\u001b[39m.\u001b[39mv[j]\n\u001b[1;32m      3\u001b[0m ri,rj \u001b[39m=\u001b[39m gas\u001b[39m.\u001b[39mr[i], gas\u001b[39m.\u001b[39mr[j]\n\u001b[0;32m----> 5\u001b[0m vi \u001b[39m+\u001b[39m\u001b[39m=\u001b[39m vi \u001b[39m-\u001b[39m ((ri\u001b[39m-\u001b[39;49mrj)\u001b[39m.\u001b[39;49mdot(vi\u001b[39m-\u001b[39;49mvj))\u001b[39m/\u001b[39m((ri\u001b[39m-\u001b[39mrj)\u001b[39m.\u001b[39mdot(ri\u001b[39m-\u001b[39mrj))\u001b[39m*\u001b[39m(ri\u001b[39m-\u001b[39mrj)\n",
      "\u001b[0;31mValueError\u001b[0m: shapes (565,2) and (565,2) not aligned: 2 (dim 1) != 565 (dim 0)"
     ]
    }
   ],
   "source": [
    "i,j = gas.check_collisions()\n",
    "vi,vj  = gas.v[i], gas.v[j]\n",
    "ri,rj = gas.r[i], gas.r[j]\n",
    "\n",
    "vi = vi - ((ri-rj).dot(vi-vj))/((ri-rj).dot(ri-rj))*(ri-rj)"
   ]
  },
  {
   "cell_type": "code",
   "execution_count": 6,
   "metadata": {},
   "outputs": [
    {
     "data": {
      "text/plain": [
       "(array([[ 45.18461591, -59.00496053],\n",
       "        [ 45.18461591, -59.00496053],\n",
       "        [ 45.18461591, -59.00496053],\n",
       "        ...,\n",
       "        [-25.47823213, -91.61344634],\n",
       "        [ 80.48783803,  26.47897563],\n",
       "        [-46.69941733,  72.62191004]]),\n",
       " array([[-13.45975389, -43.20402276],\n",
       "        [-97.2959453 ,  82.12192251],\n",
       "        [-12.60453548, -37.48396133],\n",
       "        ...,\n",
       "        [ 42.90142523, -53.87437907],\n",
       "        [ 39.13878064,  18.91691304],\n",
       "        [ 51.25449443, -59.56321616]]))"
      ]
     },
     "execution_count": 6,
     "metadata": {},
     "output_type": "execute_result"
    }
   ],
   "source": []
  },
  {
   "cell_type": "markdown",
   "metadata": {},
   "source": [
    "# 2D Elastic collision\n",
    "\n",
    "$$ \\bold v_i' = \\bold v_i - \\frac{(\\bold v_i - \\bold v_j) \\cdot (\\bold r_i - \\bold r_j)}{(\\bold r_i - \\bold r_j) \\cdot (\\bold r_i - \\bold r_j)} (\\bold r_i - \\bold r_j) $$\n",
    "$$ \\bold v_j' = \\bold v_j - \\frac{(\\bold v_j - \\bold v_i) \\cdot (\\bold r_j - \\bold r_i)}{(\\bold r_j - \\bold r_i) \\cdot (\\bold r_i - \\bold r_j)} (\\bold r_j - \\bold r_i) $$ \n"
   ]
  },
  {
   "cell_type": "markdown",
   "metadata": {},
   "source": []
  }
 ],
 "metadata": {
  "kernelspec": {
   "display_name": "env_tensorflow",
   "language": "python",
   "name": "python3"
  },
  "language_info": {
   "codemirror_mode": {
    "name": "ipython",
    "version": 3
   },
   "file_extension": ".py",
   "mimetype": "text/x-python",
   "name": "python",
   "nbconvert_exporter": "python",
   "pygments_lexer": "ipython3",
   "version": "3.10.6"
  },
  "orig_nbformat": 4
 },
 "nbformat": 4,
 "nbformat_minor": 2
}
